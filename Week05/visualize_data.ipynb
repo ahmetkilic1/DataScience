{
 "cells": [
  {
   "cell_type": "markdown",
   "metadata": {},
   "source": [
    "### Visualize the Country Data for Air Quality Analysis"
   ]
  },
  {
   "cell_type": "markdown",
   "metadata": {},
   "source": [
    "**Importing the necessary libraries**"
   ]
  },
  {
   "cell_type": "code",
   "execution_count": 1,
   "metadata": {},
   "outputs": [],
   "source": [
    "import numpy as np\n",
    "import pandas as pd\n",
    "import matplotlib.pyplot as plt\n",
    "\n",
    "pd.set_option('display.max_columns', None)\n",
    "pd.set_option('display.max_rows', None)"
   ]
  },
  {
   "cell_type": "markdown",
   "metadata": {},
   "source": [
    "**Reading the data**"
   ]
  },
  {
   "cell_type": "code",
   "execution_count": 3,
   "metadata": {},
   "outputs": [
    {
     "name": "stdout",
     "output_type": "stream",
     "text": [
      "   id code       name         datetimeFirst          datetimeLast  \\\n",
      "0   1   ID  Indonesia  2016-01-30T01:00:00Z  2024-10-17T10:00:00Z   \n",
      "1   2   MY   Malaysia  2022-11-03T21:00:00Z  2024-10-17T10:00:00Z   \n",
      "2   3   CL      Chile  2016-01-30T01:00:00Z  2024-10-17T10:00:00Z   \n",
      "3   5   PE       Peru  2016-03-04T17:00:00Z  2024-10-17T10:00:00Z   \n",
      "4   6   AR  Argentina  2016-01-01T03:00:00Z  2024-10-18T03:00:00Z   \n",
      "\n",
      "                                          parameters  \n",
      "0  [{'id': 1, 'name': 'pm10', 'units': 'µg/m³', '...  \n",
      "1  [{'id': 1, 'name': 'pm10', 'units': 'µg/m³', '...  \n",
      "2  [{'id': 1, 'name': 'pm10', 'units': 'µg/m³', '...  \n",
      "3  [{'id': 1, 'name': 'pm10', 'units': 'µg/m³', '...  \n",
      "4  [{'id': 1, 'name': 'pm10', 'units': 'µg/m³', '...  \n",
      "<class 'pandas.core.frame.DataFrame'>\n",
      "RangeIndex: 131 entries, 0 to 130\n",
      "Data columns (total 6 columns):\n",
      " #   Column         Non-Null Count  Dtype \n",
      "---  ------         --------------  ----- \n",
      " 0   id             131 non-null    int64 \n",
      " 1   code           131 non-null    object\n",
      " 2   name           131 non-null    object\n",
      " 3   datetimeFirst  131 non-null    object\n",
      " 4   datetimeLast   131 non-null    object\n",
      " 5   parameters     131 non-null    object\n",
      "dtypes: int64(1), object(5)\n",
      "memory usage: 6.3+ KB\n",
      "None\n"
     ]
    }
   ],
   "source": [
    "df = pd.read_csv('countries.csv')\n",
    "print(df.head())\n",
    "print(df.info())"
   ]
  },
  {
   "cell_type": "markdown",
   "metadata": {},
   "source": [
    "**Fixing the Column Types**"
   ]
  },
  {
   "cell_type": "code",
   "execution_count": 4,
   "metadata": {},
   "outputs": [
    {
     "name": "stdout",
     "output_type": "stream",
     "text": [
      "<class 'pandas.core.frame.DataFrame'>\n",
      "RangeIndex: 131 entries, 0 to 130\n",
      "Data columns (total 6 columns):\n",
      " #   Column         Non-Null Count  Dtype              \n",
      "---  ------         --------------  -----              \n",
      " 0   code           131 non-null    category           \n",
      " 1   name           131 non-null    category           \n",
      " 2   datetimeFirst  131 non-null    datetime64[ns, UTC]\n",
      " 3   datetimeLast   131 non-null    datetime64[ns, UTC]\n",
      " 4   time_diff      131 non-null    int64              \n",
      " 5   parameters     131 non-null    object             \n",
      "dtypes: category(2), datetime64[ns, UTC](2), int64(1), object(1)\n",
      "memory usage: 14.9+ KB\n",
      "None\n"
     ]
    }
   ],
   "source": [
    "df[\"code\"] = df[\"code\"].astype('category')\n",
    "df[\"name\"] = df[\"name\"].astype('category')\n",
    "df[\"datetimeFirst\"] = df[\"datetimeFirst\"].apply(lambda x: pd.Timestamp(x, tz='UTC'))\n",
    "df[\"datetimeLast\"] = df[\"datetimeLast\"].apply(lambda x: pd.Timestamp(x, tz='UTC'))\n",
    "df[\"datetimeFirst\"] = pd.to_datetime(df[\"datetimeFirst\"], utc=True, errors='coerce')\n",
    "df[\"datetimeLast\"] = pd.to_datetime(df[\"datetimeLast\"], utc=True, errors='coerce')\n",
    "df[\"time_diff\"] = df[\"datetimeLast\"] - df[\"datetimeFirst\"]\n",
    "df[\"time_diff\"] = df[\"time_diff\"].dt.days\n",
    "df = df[['code', 'name', 'datetimeFirst', 'datetimeLast', 'time_diff', 'parameters']]\n",
    "print(df.info())"
   ]
  },
  {
   "cell_type": "markdown",
   "metadata": {},
   "source": []
  }
 ],
 "metadata": {
  "kernelspec": {
   "display_name": "Python 3",
   "language": "python",
   "name": "python3"
  },
  "language_info": {
   "codemirror_mode": {
    "name": "ipython",
    "version": 3
   },
   "file_extension": ".py",
   "mimetype": "text/x-python",
   "name": "python",
   "nbconvert_exporter": "python",
   "pygments_lexer": "ipython3",
   "version": "3.13.0"
  }
 },
 "nbformat": 4,
 "nbformat_minor": 2
}
